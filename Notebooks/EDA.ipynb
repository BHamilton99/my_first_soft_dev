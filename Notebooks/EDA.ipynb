{
 "cells": [
  {
   "cell_type": "markdown",
   "metadata": {},
   "source": [
    "# Exploratory Data Analysis (EDA) of Diabetes Dataset\n",
    "\n",
    "## Introduction\n",
    "This notebook explores the `diabetes_dataset.csv` file, which contains health metrics related to diabetes. The goal is to understand the dataset's structure, identify patterns, and prepare the data for use in a Streamlit app.\n",
    "\n",
    "## Dataset Description\n",
    "The dataset includes the following features:\n",
    "- **Pregnancies**: Number of times pregnant.\n",
    "- **Glucose**: Plasma glucose concentration.\n",
    "- **BloodPressure**: Diastolic blood pressure.\n",
    "- **SkinThickness**: Triceps skinfold thickness.\n",
    "- **Insulin**: 2-Hour serum insulin.\n",
    "- **BMI**: Body Mass Index.\n",
    "- **DiabetesPedigreeFunction**: A genetic risk score.\n",
    "- **Age**: Age in years.\n",
    "- **Outcome**: Target variable (0 = no diabetes, 1 = diabetes).\n",
    "\n",
    "## Steps\n",
    "1. Load the dataset.\n",
    "2. Perform basic data exploration (e.g., `df.head()`, `df.info()`).\n",
    "3. Visualize feature distributions (e.g., histograms, scatter plots).\n",
    "4. Analyze correlations between features.\n",
    "5. Summarize insights and observations.\n"
   ]
  },
  {
   "cell_type": "code",
   "execution_count": 30,
   "metadata": {},
   "outputs": [
    {
     "data": {
      "text/html": [
       "<div>\n",
       "<style scoped>\n",
       "    .dataframe tbody tr th:only-of-type {\n",
       "        vertical-align: middle;\n",
       "    }\n",
       "\n",
       "    .dataframe tbody tr th {\n",
       "        vertical-align: top;\n",
       "    }\n",
       "\n",
       "    .dataframe thead th {\n",
       "        text-align: right;\n",
       "    }\n",
       "</style>\n",
       "<table border=\"1\" class=\"dataframe\">\n",
       "  <thead>\n",
       "    <tr style=\"text-align: right;\">\n",
       "      <th></th>\n",
       "      <th>Age</th>\n",
       "      <th>Pregnancies</th>\n",
       "      <th>BMI</th>\n",
       "      <th>Glucose</th>\n",
       "      <th>BloodPressure</th>\n",
       "      <th>HbA1c</th>\n",
       "      <th>LDL</th>\n",
       "      <th>HDL</th>\n",
       "      <th>Triglycerides</th>\n",
       "      <th>WaistCircumference</th>\n",
       "      <th>HipCircumference</th>\n",
       "      <th>WHR</th>\n",
       "      <th>FamilyHistory</th>\n",
       "      <th>DietType</th>\n",
       "      <th>Hypertension</th>\n",
       "      <th>MedicationUse</th>\n",
       "      <th>Outcome</th>\n",
       "    </tr>\n",
       "  </thead>\n",
       "  <tbody>\n",
       "    <tr>\n",
       "      <th>0</th>\n",
       "      <td>69</td>\n",
       "      <td>5</td>\n",
       "      <td>28.39</td>\n",
       "      <td>130.1</td>\n",
       "      <td>77.0</td>\n",
       "      <td>5.4</td>\n",
       "      <td>130.4</td>\n",
       "      <td>44.0</td>\n",
       "      <td>50.0</td>\n",
       "      <td>90.5</td>\n",
       "      <td>107.9</td>\n",
       "      <td>0.84</td>\n",
       "      <td>0</td>\n",
       "      <td>0</td>\n",
       "      <td>0</td>\n",
       "      <td>1</td>\n",
       "      <td>0</td>\n",
       "    </tr>\n",
       "    <tr>\n",
       "      <th>1</th>\n",
       "      <td>32</td>\n",
       "      <td>1</td>\n",
       "      <td>26.49</td>\n",
       "      <td>116.5</td>\n",
       "      <td>72.0</td>\n",
       "      <td>4.5</td>\n",
       "      <td>87.4</td>\n",
       "      <td>54.2</td>\n",
       "      <td>129.9</td>\n",
       "      <td>113.3</td>\n",
       "      <td>81.4</td>\n",
       "      <td>1.39</td>\n",
       "      <td>0</td>\n",
       "      <td>0</td>\n",
       "      <td>0</td>\n",
       "      <td>0</td>\n",
       "      <td>0</td>\n",
       "    </tr>\n",
       "    <tr>\n",
       "      <th>2</th>\n",
       "      <td>89</td>\n",
       "      <td>13</td>\n",
       "      <td>25.34</td>\n",
       "      <td>101.0</td>\n",
       "      <td>82.0</td>\n",
       "      <td>4.9</td>\n",
       "      <td>112.5</td>\n",
       "      <td>56.8</td>\n",
       "      <td>177.6</td>\n",
       "      <td>84.7</td>\n",
       "      <td>107.2</td>\n",
       "      <td>0.79</td>\n",
       "      <td>0</td>\n",
       "      <td>0</td>\n",
       "      <td>0</td>\n",
       "      <td>1</td>\n",
       "      <td>0</td>\n",
       "    </tr>\n",
       "    <tr>\n",
       "      <th>3</th>\n",
       "      <td>78</td>\n",
       "      <td>13</td>\n",
       "      <td>29.91</td>\n",
       "      <td>146.0</td>\n",
       "      <td>104.0</td>\n",
       "      <td>5.7</td>\n",
       "      <td>50.7</td>\n",
       "      <td>39.1</td>\n",
       "      <td>117.0</td>\n",
       "      <td>108.9</td>\n",
       "      <td>110.0</td>\n",
       "      <td>0.99</td>\n",
       "      <td>0</td>\n",
       "      <td>0</td>\n",
       "      <td>0</td>\n",
       "      <td>1</td>\n",
       "      <td>1</td>\n",
       "    </tr>\n",
       "    <tr>\n",
       "      <th>4</th>\n",
       "      <td>38</td>\n",
       "      <td>8</td>\n",
       "      <td>24.56</td>\n",
       "      <td>103.2</td>\n",
       "      <td>74.0</td>\n",
       "      <td>4.7</td>\n",
       "      <td>102.5</td>\n",
       "      <td>29.1</td>\n",
       "      <td>145.9</td>\n",
       "      <td>84.1</td>\n",
       "      <td>92.8</td>\n",
       "      <td>0.91</td>\n",
       "      <td>0</td>\n",
       "      <td>1</td>\n",
       "      <td>0</td>\n",
       "      <td>0</td>\n",
       "      <td>0</td>\n",
       "    </tr>\n",
       "  </tbody>\n",
       "</table>\n",
       "</div>"
      ],
      "text/plain": [
       "   Age  Pregnancies    BMI  Glucose  BloodPressure  HbA1c    LDL   HDL  \\\n",
       "0   69            5  28.39    130.1           77.0    5.4  130.4  44.0   \n",
       "1   32            1  26.49    116.5           72.0    4.5   87.4  54.2   \n",
       "2   89           13  25.34    101.0           82.0    4.9  112.5  56.8   \n",
       "3   78           13  29.91    146.0          104.0    5.7   50.7  39.1   \n",
       "4   38            8  24.56    103.2           74.0    4.7  102.5  29.1   \n",
       "\n",
       "   Triglycerides  WaistCircumference  HipCircumference   WHR  FamilyHistory  \\\n",
       "0           50.0                90.5             107.9  0.84              0   \n",
       "1          129.9               113.3              81.4  1.39              0   \n",
       "2          177.6                84.7             107.2  0.79              0   \n",
       "3          117.0               108.9             110.0  0.99              0   \n",
       "4          145.9                84.1              92.8  0.91              0   \n",
       "\n",
       "   DietType  Hypertension  MedicationUse  Outcome  \n",
       "0         0             0              1        0  \n",
       "1         0             0              0        0  \n",
       "2         0             0              1        0  \n",
       "3         0             0              1        1  \n",
       "4         1             0              0        0  "
      ]
     },
     "execution_count": 30,
     "metadata": {},
     "output_type": "execute_result"
    }
   ],
   "source": [
    "import pandas as pd\n",
    "import plotly.express as px\n",
    "\n",
    "# Load the dataset\n",
    "df = pd.read_csv('/Users/bmhknicks/Documents/Projects/my_first_soft_dev/data/diabetes_dataset.csv')\n",
    "\n",
    "# Display the first few rows\n",
    "df.head()"
   ]
  },
  {
   "cell_type": "markdown",
   "metadata": {},
   "source": [
    "### Step 2: Perform Basic Data Exploration"
   ]
  },
  {
   "cell_type": "code",
   "execution_count": 31,
   "metadata": {},
   "outputs": [
    {
     "name": "stdout",
     "output_type": "stream",
     "text": [
      "<class 'pandas.core.frame.DataFrame'>\n",
      "RangeIndex: 9538 entries, 0 to 9537\n",
      "Data columns (total 17 columns):\n",
      " #   Column              Non-Null Count  Dtype  \n",
      "---  ------              --------------  -----  \n",
      " 0   Age                 9538 non-null   int64  \n",
      " 1   Pregnancies         9538 non-null   int64  \n",
      " 2   BMI                 9538 non-null   float64\n",
      " 3   Glucose             9538 non-null   float64\n",
      " 4   BloodPressure       9538 non-null   float64\n",
      " 5   HbA1c               9538 non-null   float64\n",
      " 6   LDL                 9538 non-null   float64\n",
      " 7   HDL                 9538 non-null   float64\n",
      " 8   Triglycerides       9538 non-null   float64\n",
      " 9   WaistCircumference  9538 non-null   float64\n",
      " 10  HipCircumference    9538 non-null   float64\n",
      " 11  WHR                 9538 non-null   float64\n",
      " 12  FamilyHistory       9538 non-null   int64  \n",
      " 13  DietType            9538 non-null   int64  \n",
      " 14  Hypertension        9538 non-null   int64  \n",
      " 15  MedicationUse       9538 non-null   int64  \n",
      " 16  Outcome             9538 non-null   int64  \n",
      "dtypes: float64(10), int64(7)\n",
      "memory usage: 1.2 MB\n",
      "Missing Values:\n",
      " Age                   0\n",
      "Pregnancies           0\n",
      "BMI                   0\n",
      "Glucose               0\n",
      "BloodPressure         0\n",
      "HbA1c                 0\n",
      "LDL                   0\n",
      "HDL                   0\n",
      "Triglycerides         0\n",
      "WaistCircumference    0\n",
      "HipCircumference      0\n",
      "WHR                   0\n",
      "FamilyHistory         0\n",
      "DietType              0\n",
      "Hypertension          0\n",
      "MedicationUse         0\n",
      "Outcome               0\n",
      "dtype: int64\n"
     ]
    },
    {
     "data": {
      "text/html": [
       "<div>\n",
       "<style scoped>\n",
       "    .dataframe tbody tr th:only-of-type {\n",
       "        vertical-align: middle;\n",
       "    }\n",
       "\n",
       "    .dataframe tbody tr th {\n",
       "        vertical-align: top;\n",
       "    }\n",
       "\n",
       "    .dataframe thead th {\n",
       "        text-align: right;\n",
       "    }\n",
       "</style>\n",
       "<table border=\"1\" class=\"dataframe\">\n",
       "  <thead>\n",
       "    <tr style=\"text-align: right;\">\n",
       "      <th></th>\n",
       "      <th>Age</th>\n",
       "      <th>Pregnancies</th>\n",
       "      <th>BMI</th>\n",
       "      <th>Glucose</th>\n",
       "      <th>BloodPressure</th>\n",
       "      <th>HbA1c</th>\n",
       "      <th>LDL</th>\n",
       "      <th>HDL</th>\n",
       "      <th>Triglycerides</th>\n",
       "      <th>WaistCircumference</th>\n",
       "      <th>HipCircumference</th>\n",
       "      <th>WHR</th>\n",
       "      <th>FamilyHistory</th>\n",
       "      <th>DietType</th>\n",
       "      <th>Hypertension</th>\n",
       "      <th>MedicationUse</th>\n",
       "      <th>Outcome</th>\n",
       "    </tr>\n",
       "  </thead>\n",
       "  <tbody>\n",
       "    <tr>\n",
       "      <th>count</th>\n",
       "      <td>9538.000000</td>\n",
       "      <td>9538.000000</td>\n",
       "      <td>9538.000000</td>\n",
       "      <td>9538.000000</td>\n",
       "      <td>9538.000000</td>\n",
       "      <td>9538.000000</td>\n",
       "      <td>9538.000000</td>\n",
       "      <td>9538.000000</td>\n",
       "      <td>9538.000000</td>\n",
       "      <td>9538.000000</td>\n",
       "      <td>9538.000000</td>\n",
       "      <td>9538.000000</td>\n",
       "      <td>9538.000000</td>\n",
       "      <td>9538.000000</td>\n",
       "      <td>9538.000000</td>\n",
       "      <td>9538.000000</td>\n",
       "      <td>9538.000000</td>\n",
       "    </tr>\n",
       "    <tr>\n",
       "      <th>mean</th>\n",
       "      <td>53.577584</td>\n",
       "      <td>7.986161</td>\n",
       "      <td>27.052364</td>\n",
       "      <td>106.104183</td>\n",
       "      <td>84.475781</td>\n",
       "      <td>4.650661</td>\n",
       "      <td>100.133456</td>\n",
       "      <td>49.953418</td>\n",
       "      <td>151.147746</td>\n",
       "      <td>93.951678</td>\n",
       "      <td>103.060621</td>\n",
       "      <td>0.917400</td>\n",
       "      <td>0.302474</td>\n",
       "      <td>0.486161</td>\n",
       "      <td>0.001048</td>\n",
       "      <td>0.405012</td>\n",
       "      <td>0.344097</td>\n",
       "    </tr>\n",
       "    <tr>\n",
       "      <th>std</th>\n",
       "      <td>20.764651</td>\n",
       "      <td>4.933469</td>\n",
       "      <td>5.927955</td>\n",
       "      <td>21.918590</td>\n",
       "      <td>14.123480</td>\n",
       "      <td>0.476395</td>\n",
       "      <td>29.911910</td>\n",
       "      <td>15.242194</td>\n",
       "      <td>48.951627</td>\n",
       "      <td>15.594468</td>\n",
       "      <td>13.438827</td>\n",
       "      <td>0.140828</td>\n",
       "      <td>0.459354</td>\n",
       "      <td>0.661139</td>\n",
       "      <td>0.032364</td>\n",
       "      <td>0.490920</td>\n",
       "      <td>0.475098</td>\n",
       "    </tr>\n",
       "    <tr>\n",
       "      <th>min</th>\n",
       "      <td>18.000000</td>\n",
       "      <td>0.000000</td>\n",
       "      <td>15.000000</td>\n",
       "      <td>50.000000</td>\n",
       "      <td>60.000000</td>\n",
       "      <td>4.000000</td>\n",
       "      <td>-12.000000</td>\n",
       "      <td>-9.200000</td>\n",
       "      <td>50.000000</td>\n",
       "      <td>40.300000</td>\n",
       "      <td>54.800000</td>\n",
       "      <td>0.420000</td>\n",
       "      <td>0.000000</td>\n",
       "      <td>0.000000</td>\n",
       "      <td>0.000000</td>\n",
       "      <td>0.000000</td>\n",
       "      <td>0.000000</td>\n",
       "    </tr>\n",
       "    <tr>\n",
       "      <th>25%</th>\n",
       "      <td>36.000000</td>\n",
       "      <td>4.000000</td>\n",
       "      <td>22.870000</td>\n",
       "      <td>91.000000</td>\n",
       "      <td>74.000000</td>\n",
       "      <td>4.300000</td>\n",
       "      <td>80.100000</td>\n",
       "      <td>39.700000</td>\n",
       "      <td>117.200000</td>\n",
       "      <td>83.400000</td>\n",
       "      <td>94.000000</td>\n",
       "      <td>0.820000</td>\n",
       "      <td>0.000000</td>\n",
       "      <td>0.000000</td>\n",
       "      <td>0.000000</td>\n",
       "      <td>0.000000</td>\n",
       "      <td>0.000000</td>\n",
       "    </tr>\n",
       "    <tr>\n",
       "      <th>50%</th>\n",
       "      <td>53.000000</td>\n",
       "      <td>8.000000</td>\n",
       "      <td>27.050000</td>\n",
       "      <td>106.000000</td>\n",
       "      <td>84.000000</td>\n",
       "      <td>4.600000</td>\n",
       "      <td>99.900000</td>\n",
       "      <td>50.200000</td>\n",
       "      <td>150.550000</td>\n",
       "      <td>93.800000</td>\n",
       "      <td>103.200000</td>\n",
       "      <td>0.910000</td>\n",
       "      <td>0.000000</td>\n",
       "      <td>0.000000</td>\n",
       "      <td>0.000000</td>\n",
       "      <td>0.000000</td>\n",
       "      <td>0.000000</td>\n",
       "    </tr>\n",
       "    <tr>\n",
       "      <th>75%</th>\n",
       "      <td>72.000000</td>\n",
       "      <td>12.000000</td>\n",
       "      <td>31.180000</td>\n",
       "      <td>121.000000</td>\n",
       "      <td>94.000000</td>\n",
       "      <td>5.000000</td>\n",
       "      <td>120.200000</td>\n",
       "      <td>60.200000</td>\n",
       "      <td>185.100000</td>\n",
       "      <td>104.600000</td>\n",
       "      <td>112.100000</td>\n",
       "      <td>1.010000</td>\n",
       "      <td>1.000000</td>\n",
       "      <td>1.000000</td>\n",
       "      <td>0.000000</td>\n",
       "      <td>1.000000</td>\n",
       "      <td>1.000000</td>\n",
       "    </tr>\n",
       "    <tr>\n",
       "      <th>max</th>\n",
       "      <td>89.000000</td>\n",
       "      <td>16.000000</td>\n",
       "      <td>49.660000</td>\n",
       "      <td>207.200000</td>\n",
       "      <td>138.000000</td>\n",
       "      <td>6.900000</td>\n",
       "      <td>202.200000</td>\n",
       "      <td>107.800000</td>\n",
       "      <td>345.800000</td>\n",
       "      <td>163.000000</td>\n",
       "      <td>156.600000</td>\n",
       "      <td>1.490000</td>\n",
       "      <td>1.000000</td>\n",
       "      <td>2.000000</td>\n",
       "      <td>1.000000</td>\n",
       "      <td>1.000000</td>\n",
       "      <td>1.000000</td>\n",
       "    </tr>\n",
       "  </tbody>\n",
       "</table>\n",
       "</div>"
      ],
      "text/plain": [
       "               Age  Pregnancies          BMI      Glucose  BloodPressure  \\\n",
       "count  9538.000000  9538.000000  9538.000000  9538.000000    9538.000000   \n",
       "mean     53.577584     7.986161    27.052364   106.104183      84.475781   \n",
       "std      20.764651     4.933469     5.927955    21.918590      14.123480   \n",
       "min      18.000000     0.000000    15.000000    50.000000      60.000000   \n",
       "25%      36.000000     4.000000    22.870000    91.000000      74.000000   \n",
       "50%      53.000000     8.000000    27.050000   106.000000      84.000000   \n",
       "75%      72.000000    12.000000    31.180000   121.000000      94.000000   \n",
       "max      89.000000    16.000000    49.660000   207.200000     138.000000   \n",
       "\n",
       "             HbA1c          LDL          HDL  Triglycerides  \\\n",
       "count  9538.000000  9538.000000  9538.000000    9538.000000   \n",
       "mean      4.650661   100.133456    49.953418     151.147746   \n",
       "std       0.476395    29.911910    15.242194      48.951627   \n",
       "min       4.000000   -12.000000    -9.200000      50.000000   \n",
       "25%       4.300000    80.100000    39.700000     117.200000   \n",
       "50%       4.600000    99.900000    50.200000     150.550000   \n",
       "75%       5.000000   120.200000    60.200000     185.100000   \n",
       "max       6.900000   202.200000   107.800000     345.800000   \n",
       "\n",
       "       WaistCircumference  HipCircumference          WHR  FamilyHistory  \\\n",
       "count         9538.000000       9538.000000  9538.000000    9538.000000   \n",
       "mean            93.951678        103.060621     0.917400       0.302474   \n",
       "std             15.594468         13.438827     0.140828       0.459354   \n",
       "min             40.300000         54.800000     0.420000       0.000000   \n",
       "25%             83.400000         94.000000     0.820000       0.000000   \n",
       "50%             93.800000        103.200000     0.910000       0.000000   \n",
       "75%            104.600000        112.100000     1.010000       1.000000   \n",
       "max            163.000000        156.600000     1.490000       1.000000   \n",
       "\n",
       "          DietType  Hypertension  MedicationUse      Outcome  \n",
       "count  9538.000000   9538.000000    9538.000000  9538.000000  \n",
       "mean      0.486161      0.001048       0.405012     0.344097  \n",
       "std       0.661139      0.032364       0.490920     0.475098  \n",
       "min       0.000000      0.000000       0.000000     0.000000  \n",
       "25%       0.000000      0.000000       0.000000     0.000000  \n",
       "50%       0.000000      0.000000       0.000000     0.000000  \n",
       "75%       1.000000      0.000000       1.000000     1.000000  \n",
       "max       2.000000      1.000000       1.000000     1.000000  "
      ]
     },
     "execution_count": 31,
     "metadata": {},
     "output_type": "execute_result"
    }
   ],
   "source": [
    "# Display dataset information\n",
    "df.info()\n",
    "\n",
    "# Check for missing values\n",
    "print(\"Missing Values:\\n\", df.isnull().sum())\n",
    "\n",
    "# Display basic statistics\n",
    "df.describe()"
   ]
  },
  {
   "cell_type": "markdown",
   "metadata": {},
   "source": [
    "### Step 3: Visualize Feature Distributions"
   ]
  },
  {
   "cell_type": "code",
   "execution_count": 32,
   "metadata": {},
   "outputs": [
    {
     "data": {
      "application/vnd.plotly.v1+json": {
       "config": {
        "plotlyServerURL": "https://plot.ly"
       },
       "data": [
        {
         "bingroup": "x",
         "hovertemplate": "Age=%{x}<br>count=%{y}<extra></extra>",
         "legendgroup": "",
         "marker": {
          "color": "#636efa",
          "pattern": {
           "shape": ""
          }
         },
         "name": "",
         "nbinsx": 20,
         "orientation": "v",
         "showlegend": false,
         "type": "histogram",
         "x": {
          "bdata": "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",
          "dtype": "i1"
         },
         "xaxis": "x",
         "yaxis": "y"
        }
       ],
       "layout": {
        "barmode": "relative",
        "legend": {
         "tracegroupgap": 0
        },
        "template": {
         "data": {
          "bar": [
           {
            "error_x": {
             "color": "#2a3f5f"
            },
            "error_y": {
             "color": "#2a3f5f"
            },
            "marker": {
             "line": {
              "color": "#E5ECF6",
              "width": 0.5
             },
             "pattern": {
              "fillmode": "overlay",
              "size": 10,
              "solidity": 0.2
             }
            },
            "type": "bar"
           }
          ],
          "barpolar": [
           {
            "marker": {
             "line": {
              "color": "#E5ECF6",
              "width": 0.5
             },
             "pattern": {
              "fillmode": "overlay",
              "size": 10,
              "solidity": 0.2
             }
            },
            "type": "barpolar"
           }
          ],
          "carpet": [
           {
            "aaxis": {
             "endlinecolor": "#2a3f5f",
             "gridcolor": "white",
             "linecolor": "white",
             "minorgridcolor": "white",
             "startlinecolor": "#2a3f5f"
            },
            "baxis": {
             "endlinecolor": "#2a3f5f",
             "gridcolor": "white",
             "linecolor": "white",
             "minorgridcolor": "white",
             "startlinecolor": "#2a3f5f"
            },
            "type": "carpet"
           }
          ],
          "choropleth": [
           {
            "colorbar": {
             "outlinewidth": 0,
             "ticks": ""
            },
            "type": "choropleth"
           }
          ],
          "contour": [
           {
            "colorbar": {
             "outlinewidth": 0,
             "ticks": ""
            },
            "colorscale": [
             [
              0,
              "#0d0887"
             ],
             [
              0.1111111111111111,
              "#46039f"
             ],
             [
              0.2222222222222222,
              "#7201a8"
             ],
             [
              0.3333333333333333,
              "#9c179e"
             ],
             [
              0.4444444444444444,
              "#bd3786"
             ],
             [
              0.5555555555555556,
              "#d8576b"
             ],
             [
              0.6666666666666666,
              "#ed7953"
             ],
             [
              0.7777777777777778,
              "#fb9f3a"
             ],
             [
              0.8888888888888888,
              "#fdca26"
             ],
             [
              1,
              "#f0f921"
             ]
            ],
            "type": "contour"
           }
          ],
          "contourcarpet": [
           {
            "colorbar": {
             "outlinewidth": 0,
             "ticks": ""
            },
            "type": "contourcarpet"
           }
          ],
          "heatmap": [
           {
            "colorbar": {
             "outlinewidth": 0,
             "ticks": ""
            },
            "colorscale": [
             [
              0,
              "#0d0887"
             ],
             [
              0.1111111111111111,
              "#46039f"
             ],
             [
              0.2222222222222222,
              "#7201a8"
             ],
             [
              0.3333333333333333,
              "#9c179e"
             ],
             [
              0.4444444444444444,
              "#bd3786"
             ],
             [
              0.5555555555555556,
              "#d8576b"
             ],
             [
              0.6666666666666666,
              "#ed7953"
             ],
             [
              0.7777777777777778,
              "#fb9f3a"
             ],
             [
              0.8888888888888888,
              "#fdca26"
             ],
             [
              1,
              "#f0f921"
             ]
            ],
            "type": "heatmap"
           }
          ],
          "histogram": [
           {
            "marker": {
             "pattern": {
              "fillmode": "overlay",
              "size": 10,
              "solidity": 0.2
             }
            },
            "type": "histogram"
           }
          ],
          "histogram2d": [
           {
            "colorbar": {
             "outlinewidth": 0,
             "ticks": ""
            },
            "colorscale": [
             [
              0,
              "#0d0887"
             ],
             [
              0.1111111111111111,
              "#46039f"
             ],
             [
              0.2222222222222222,
              "#7201a8"
             ],
             [
              0.3333333333333333,
              "#9c179e"
             ],
             [
              0.4444444444444444,
              "#bd3786"
             ],
             [
              0.5555555555555556,
              "#d8576b"
             ],
             [
              0.6666666666666666,
              "#ed7953"
             ],
             [
              0.7777777777777778,
              "#fb9f3a"
             ],
             [
              0.8888888888888888,
              "#fdca26"
             ],
             [
              1,
              "#f0f921"
             ]
            ],
            "type": "histogram2d"
           }
          ],
          "histogram2dcontour": [
           {
            "colorbar": {
             "outlinewidth": 0,
             "ticks": ""
            },
            "colorscale": [
             [
              0,
              "#0d0887"
             ],
             [
              0.1111111111111111,
              "#46039f"
             ],
             [
              0.2222222222222222,
              "#7201a8"
             ],
             [
              0.3333333333333333,
              "#9c179e"
             ],
             [
              0.4444444444444444,
              "#bd3786"
             ],
             [
              0.5555555555555556,
              "#d8576b"
             ],
             [
              0.6666666666666666,
              "#ed7953"
             ],
             [
              0.7777777777777778,
              "#fb9f3a"
             ],
             [
              0.8888888888888888,
              "#fdca26"
             ],
             [
              1,
              "#f0f921"
             ]
            ],
            "type": "histogram2dcontour"
           }
          ],
          "mesh3d": [
           {
            "colorbar": {
             "outlinewidth": 0,
             "ticks": ""
            },
            "type": "mesh3d"
           }
          ],
          "parcoords": [
           {
            "line": {
             "colorbar": {
              "outlinewidth": 0,
              "ticks": ""
             }
            },
            "type": "parcoords"
           }
          ],
          "pie": [
           {
            "automargin": true,
            "type": "pie"
           }
          ],
          "scatter": [
           {
            "fillpattern": {
             "fillmode": "overlay",
             "size": 10,
             "solidity": 0.2
            },
            "type": "scatter"
           }
          ],
          "scatter3d": [
           {
            "line": {
             "colorbar": {
              "outlinewidth": 0,
              "ticks": ""
             }
            },
            "marker": {
             "colorbar": {
              "outlinewidth": 0,
              "ticks": ""
             }
            },
            "type": "scatter3d"
           }
          ],
          "scattercarpet": [
           {
            "marker": {
             "colorbar": {
              "outlinewidth": 0,
              "ticks": ""
             }
            },
            "type": "scattercarpet"
           }
          ],
          "scattergeo": [
           {
            "marker": {
             "colorbar": {
              "outlinewidth": 0,
              "ticks": ""
             }
            },
            "type": "scattergeo"
           }
          ],
          "scattergl": [
           {
            "marker": {
             "colorbar": {
              "outlinewidth": 0,
              "ticks": ""
             }
            },
            "type": "scattergl"
           }
          ],
          "scattermap": [
           {
            "marker": {
             "colorbar": {
              "outlinewidth": 0,
              "ticks": ""
             }
            },
            "type": "scattermap"
           }
          ],
          "scattermapbox": [
           {
            "marker": {
             "colorbar": {
              "outlinewidth": 0,
              "ticks": ""
             }
            },
            "type": "scattermapbox"
           }
          ],
          "scatterpolar": [
           {
            "marker": {
             "colorbar": {
              "outlinewidth": 0,
              "ticks": ""
             }
            },
            "type": "scatterpolar"
           }
          ],
          "scatterpolargl": [
           {
            "marker": {
             "colorbar": {
              "outlinewidth": 0,
              "ticks": ""
             }
            },
            "type": "scatterpolargl"
           }
          ],
          "scatterternary": [
           {
            "marker": {
             "colorbar": {
              "outlinewidth": 0,
              "ticks": ""
             }
            },
            "type": "scatterternary"
           }
          ],
          "surface": [
           {
            "colorbar": {
             "outlinewidth": 0,
             "ticks": ""
            },
            "colorscale": [
             [
              0,
              "#0d0887"
             ],
             [
              0.1111111111111111,
              "#46039f"
             ],
             [
              0.2222222222222222,
              "#7201a8"
             ],
             [
              0.3333333333333333,
              "#9c179e"
             ],
             [
              0.4444444444444444,
              "#bd3786"
             ],
             [
              0.5555555555555556,
              "#d8576b"
             ],
             [
              0.6666666666666666,
              "#ed7953"
             ],
             [
              0.7777777777777778,
              "#fb9f3a"
             ],
             [
              0.8888888888888888,
              "#fdca26"
             ],
             [
              1,
              "#f0f921"
             ]
            ],
            "type": "surface"
           }
          ],
          "table": [
           {
            "cells": {
             "fill": {
              "color": "#EBF0F8"
             },
             "line": {
              "color": "white"
             }
            },
            "header": {
             "fill": {
              "color": "#C8D4E3"
             },
             "line": {
              "color": "white"
             }
            },
            "type": "table"
           }
          ]
         },
         "layout": {
          "annotationdefaults": {
           "arrowcolor": "#2a3f5f",
           "arrowhead": 0,
           "arrowwidth": 1
          },
          "autotypenumbers": "strict",
          "coloraxis": {
           "colorbar": {
            "outlinewidth": 0,
            "ticks": ""
           }
          },
          "colorscale": {
           "diverging": [
            [
             0,
             "#8e0152"
            ],
            [
             0.1,
             "#c51b7d"
            ],
            [
             0.2,
             "#de77ae"
            ],
            [
             0.3,
             "#f1b6da"
            ],
            [
             0.4,
             "#fde0ef"
            ],
            [
             0.5,
             "#f7f7f7"
            ],
            [
             0.6,
             "#e6f5d0"
            ],
            [
             0.7,
             "#b8e186"
            ],
            [
             0.8,
             "#7fbc41"
            ],
            [
             0.9,
             "#4d9221"
            ],
            [
             1,
             "#276419"
            ]
           ],
           "sequential": [
            [
             0,
             "#0d0887"
            ],
            [
             0.1111111111111111,
             "#46039f"
            ],
            [
             0.2222222222222222,
             "#7201a8"
            ],
            [
             0.3333333333333333,
             "#9c179e"
            ],
            [
             0.4444444444444444,
             "#bd3786"
            ],
            [
             0.5555555555555556,
             "#d8576b"
            ],
            [
             0.6666666666666666,
             "#ed7953"
            ],
            [
             0.7777777777777778,
             "#fb9f3a"
            ],
            [
             0.8888888888888888,
             "#fdca26"
            ],
            [
             1,
             "#f0f921"
            ]
           ],
           "sequentialminus": [
            [
             0,
             "#0d0887"
            ],
            [
             0.1111111111111111,
             "#46039f"
            ],
            [
             0.2222222222222222,
             "#7201a8"
            ],
            [
             0.3333333333333333,
             "#9c179e"
            ],
            [
             0.4444444444444444,
             "#bd3786"
            ],
            [
             0.5555555555555556,
             "#d8576b"
            ],
            [
             0.6666666666666666,
             "#ed7953"
            ],
            [
             0.7777777777777778,
             "#fb9f3a"
            ],
            [
             0.8888888888888888,
             "#fdca26"
            ],
            [
             1,
             "#f0f921"
            ]
           ]
          },
          "colorway": [
           "#636efa",
           "#EF553B",
           "#00cc96",
           "#ab63fa",
           "#FFA15A",
           "#19d3f3",
           "#FF6692",
           "#B6E880",
           "#FF97FF",
           "#FECB52"
          ],
          "font": {
           "color": "#2a3f5f"
          },
          "geo": {
           "bgcolor": "white",
           "lakecolor": "white",
           "landcolor": "#E5ECF6",
           "showlakes": true,
           "showland": true,
           "subunitcolor": "white"
          },
          "hoverlabel": {
           "align": "left"
          },
          "hovermode": "closest",
          "mapbox": {
           "style": "light"
          },
          "paper_bgcolor": "white",
          "plot_bgcolor": "#E5ECF6",
          "polar": {
           "angularaxis": {
            "gridcolor": "white",
            "linecolor": "white",
            "ticks": ""
           },
           "bgcolor": "#E5ECF6",
           "radialaxis": {
            "gridcolor": "white",
            "linecolor": "white",
            "ticks": ""
           }
          },
          "scene": {
           "xaxis": {
            "backgroundcolor": "#E5ECF6",
            "gridcolor": "white",
            "gridwidth": 2,
            "linecolor": "white",
            "showbackground": true,
            "ticks": "",
            "zerolinecolor": "white"
           },
           "yaxis": {
            "backgroundcolor": "#E5ECF6",
            "gridcolor": "white",
            "gridwidth": 2,
            "linecolor": "white",
            "showbackground": true,
            "ticks": "",
            "zerolinecolor": "white"
           },
           "zaxis": {
            "backgroundcolor": "#E5ECF6",
            "gridcolor": "white",
            "gridwidth": 2,
            "linecolor": "white",
            "showbackground": true,
            "ticks": "",
            "zerolinecolor": "white"
           }
          },
          "shapedefaults": {
           "line": {
            "color": "#2a3f5f"
           }
          },
          "ternary": {
           "aaxis": {
            "gridcolor": "white",
            "linecolor": "white",
            "ticks": ""
           },
           "baxis": {
            "gridcolor": "white",
            "linecolor": "white",
            "ticks": ""
           },
           "bgcolor": "#E5ECF6",
           "caxis": {
            "gridcolor": "white",
            "linecolor": "white",
            "ticks": ""
           }
          },
          "title": {
           "x": 0.05
          },
          "xaxis": {
           "automargin": true,
           "gridcolor": "white",
           "linecolor": "white",
           "ticks": "",
           "title": {
            "standoff": 15
           },
           "zerolinecolor": "white",
           "zerolinewidth": 2
          },
          "yaxis": {
           "automargin": true,
           "gridcolor": "white",
           "linecolor": "white",
           "ticks": "",
           "title": {
            "standoff": 15
           },
           "zerolinecolor": "white",
           "zerolinewidth": 2
          }
         }
        },
        "title": {
         "text": "Distribution of Age"
        },
        "xaxis": {
         "anchor": "y",
         "domain": [
          0,
          1
         ],
         "title": {
          "text": "Age"
         }
        },
        "yaxis": {
         "anchor": "x",
         "domain": [
          0,
          1
         ],
         "title": {
          "text": "count"
         }
        }
       }
      }
     },
     "metadata": {},
     "output_type": "display_data"
    }
   ],
   "source": [
    "# Histogram for Age\n",
    "fig_age = px.histogram(df, x='Age', nbins=20, title=\"Distribution of Age\")\n",
    "fig_age.show()"
   ]
  },
  {
   "cell_type": "code",
   "execution_count": 33,
   "metadata": {},
   "outputs": [
    {
     "data": {
      "application/vnd.plotly.v1+json": {
       "config": {
        "plotlyServerURL": "https://plot.ly"
       },
       "data": [
        {
         "alignmentgroup": "True",
         "hovertemplate": "BMI=%{y}<extra></extra>",
         "legendgroup": "",
         "marker": {
          "color": "#636efa"
         },
         "name": "",
         "notched": false,
         "offsetgroup": "",
         "orientation": "v",
         "showlegend": false,
         "type": "box",
         "x0": " ",
         "xaxis": "x",
         "y": {
          "bdata": "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",
          "dtype": "f8"
         },
         "y0": " ",
         "yaxis": "y"
        }
       ],
       "layout": {
        "boxmode": "group",
        "legend": {
         "tracegroupgap": 0
        },
        "template": {
         "data": {
          "bar": [
           {
            "error_x": {
             "color": "#2a3f5f"
            },
            "error_y": {
             "color": "#2a3f5f"
            },
            "marker": {
             "line": {
              "color": "#E5ECF6",
              "width": 0.5
             },
             "pattern": {
              "fillmode": "overlay",
              "size": 10,
              "solidity": 0.2
             }
            },
            "type": "bar"
           }
          ],
          "barpolar": [
           {
            "marker": {
             "line": {
              "color": "#E5ECF6",
              "width": 0.5
             },
             "pattern": {
              "fillmode": "overlay",
              "size": 10,
              "solidity": 0.2
             }
            },
            "type": "barpolar"
           }
          ],
          "carpet": [
           {
            "aaxis": {
             "endlinecolor": "#2a3f5f",
             "gridcolor": "white",
             "linecolor": "white",
             "minorgridcolor": "white",
             "startlinecolor": "#2a3f5f"
            },
            "baxis": {
             "endlinecolor": "#2a3f5f",
             "gridcolor": "white",
             "linecolor": "white",
             "minorgridcolor": "white",
             "startlinecolor": "#2a3f5f"
            },
            "type": "carpet"
           }
          ],
          "choropleth": [
           {
            "colorbar": {
             "outlinewidth": 0,
             "ticks": ""
            },
            "type": "choropleth"
           }
          ],
          "contour": [
           {
            "colorbar": {
             "outlinewidth": 0,
             "ticks": ""
            },
            "colorscale": [
             [
              0,
              "#0d0887"
             ],
             [
              0.1111111111111111,
              "#46039f"
             ],
             [
              0.2222222222222222,
              "#7201a8"
             ],
             [
              0.3333333333333333,
              "#9c179e"
             ],
             [
              0.4444444444444444,
              "#bd3786"
             ],
             [
              0.5555555555555556,
              "#d8576b"
             ],
             [
              0.6666666666666666,
              "#ed7953"
             ],
             [
              0.7777777777777778,
              "#fb9f3a"
             ],
             [
              0.8888888888888888,
              "#fdca26"
             ],
             [
              1,
              "#f0f921"
             ]
            ],
            "type": "contour"
           }
          ],
          "contourcarpet": [
           {
            "colorbar": {
             "outlinewidth": 0,
             "ticks": ""
            },
            "type": "contourcarpet"
           }
          ],
          "heatmap": [
           {
            "colorbar": {
             "outlinewidth": 0,
             "ticks": ""
            },
            "colorscale": [
             [
              0,
              "#0d0887"
             ],
             [
              0.1111111111111111,
              "#46039f"
             ],
             [
              0.2222222222222222,
              "#7201a8"
             ],
             [
              0.3333333333333333,
              "#9c179e"
             ],
             [
              0.4444444444444444,
              "#bd3786"
             ],
             [
              0.5555555555555556,
              "#d8576b"
             ],
             [
              0.6666666666666666,
              "#ed7953"
             ],
             [
              0.7777777777777778,
              "#fb9f3a"
             ],
             [
              0.8888888888888888,
              "#fdca26"
             ],
             [
              1,
              "#f0f921"
             ]
            ],
            "type": "heatmap"
           }
          ],
          "histogram": [
           {
            "marker": {
             "pattern": {
              "fillmode": "overlay",
              "size": 10,
              "solidity": 0.2
             }
            },
            "type": "histogram"
           }
          ],
          "histogram2d": [
           {
            "colorbar": {
             "outlinewidth": 0,
             "ticks": ""
            },
            "colorscale": [
             [
              0,
              "#0d0887"
             ],
             [
              0.1111111111111111,
              "#46039f"
             ],
             [
              0.2222222222222222,
              "#7201a8"
             ],
             [
              0.3333333333333333,
              "#9c179e"
             ],
             [
              0.4444444444444444,
              "#bd3786"
             ],
             [
              0.5555555555555556,
              "#d8576b"
             ],
             [
              0.6666666666666666,
              "#ed7953"
             ],
             [
              0.7777777777777778,
              "#fb9f3a"
             ],
             [
              0.8888888888888888,
              "#fdca26"
             ],
             [
              1,
              "#f0f921"
             ]
            ],
            "type": "histogram2d"
           }
          ],
          "histogram2dcontour": [
           {
            "colorbar": {
             "outlinewidth": 0,
             "ticks": ""
            },
            "colorscale": [
             [
              0,
              "#0d0887"
             ],
             [
              0.1111111111111111,
              "#46039f"
             ],
             [
              0.2222222222222222,
              "#7201a8"
             ],
             [
              0.3333333333333333,
              "#9c179e"
             ],
             [
              0.4444444444444444,
              "#bd3786"
             ],
             [
              0.5555555555555556,
              "#d8576b"
             ],
             [
              0.6666666666666666,
              "#ed7953"
             ],
             [
              0.7777777777777778,
              "#fb9f3a"
             ],
             [
              0.8888888888888888,
              "#fdca26"
             ],
             [
              1,
              "#f0f921"
             ]
            ],
            "type": "histogram2dcontour"
           }
          ],
          "mesh3d": [
           {
            "colorbar": {
             "outlinewidth": 0,
             "ticks": ""
            },
            "type": "mesh3d"
           }
          ],
          "parcoords": [
           {
            "line": {
             "colorbar": {
              "outlinewidth": 0,
              "ticks": ""
             }
            },
            "type": "parcoords"
           }
          ],
          "pie": [
           {
            "automargin": true,
            "type": "pie"
           }
          ],
          "scatter": [
           {
            "fillpattern": {
             "fillmode": "overlay",
             "size": 10,
             "solidity": 0.2
            },
            "type": "scatter"
           }
          ],
          "scatter3d": [
           {
            "line": {
             "colorbar": {
              "outlinewidth": 0,
              "ticks": ""
             }
            },
            "marker": {
             "colorbar": {
              "outlinewidth": 0,
              "ticks": ""
             }
            },
            "type": "scatter3d"
           }
          ],
          "scattercarpet": [
           {
            "marker": {
             "colorbar": {
              "outlinewidth": 0,
              "ticks": ""
             }
            },
            "type": "scattercarpet"
           }
          ],
          "scattergeo": [
           {
            "marker": {
             "colorbar": {
              "outlinewidth": 0,
              "ticks": ""
             }
            },
            "type": "scattergeo"
           }
          ],
          "scattergl": [
           {
            "marker": {
             "colorbar": {
              "outlinewidth": 0,
              "ticks": ""
             }
            },
            "type": "scattergl"
           }
          ],
          "scattermap": [
           {
            "marker": {
             "colorbar": {
              "outlinewidth": 0,
              "ticks": ""
             }
            },
            "type": "scattermap"
           }
          ],
          "scattermapbox": [
           {
            "marker": {
             "colorbar": {
              "outlinewidth": 0,
              "ticks": ""
             }
            },
            "type": "scattermapbox"
           }
          ],
          "scatterpolar": [
           {
            "marker": {
             "colorbar": {
              "outlinewidth": 0,
              "ticks": ""
             }
            },
            "type": "scatterpolar"
           }
          ],
          "scatterpolargl": [
           {
            "marker": {
             "colorbar": {
              "outlinewidth": 0,
              "ticks": ""
             }
            },
            "type": "scatterpolargl"
           }
          ],
          "scatterternary": [
           {
            "marker": {
             "colorbar": {
              "outlinewidth": 0,
              "ticks": ""
             }
            },
            "type": "scatterternary"
           }
          ],
          "surface": [
           {
            "colorbar": {
             "outlinewidth": 0,
             "ticks": ""
            },
            "colorscale": [
             [
              0,
              "#0d0887"
             ],
             [
              0.1111111111111111,
              "#46039f"
             ],
             [
              0.2222222222222222,
              "#7201a8"
             ],
             [
              0.3333333333333333,
              "#9c179e"
             ],
             [
              0.4444444444444444,
              "#bd3786"
             ],
             [
              0.5555555555555556,
              "#d8576b"
             ],
             [
              0.6666666666666666,
              "#ed7953"
             ],
             [
              0.7777777777777778,
              "#fb9f3a"
             ],
             [
              0.8888888888888888,
              "#fdca26"
             ],
             [
              1,
              "#f0f921"
             ]
            ],
            "type": "surface"
           }
          ],
          "table": [
           {
            "cells": {
             "fill": {
              "color": "#EBF0F8"
             },
             "line": {
              "color": "white"
             }
            },
            "header": {
             "fill": {
              "color": "#C8D4E3"
             },
             "line": {
              "color": "white"
             }
            },
            "type": "table"
           }
          ]
         },
         "layout": {
          "annotationdefaults": {
           "arrowcolor": "#2a3f5f",
           "arrowhead": 0,
           "arrowwidth": 1
          },
          "autotypenumbers": "strict",
          "coloraxis": {
           "colorbar": {
            "outlinewidth": 0,
            "ticks": ""
           }
          },
          "colorscale": {
           "diverging": [
            [
             0,
             "#8e0152"
            ],
            [
             0.1,
             "#c51b7d"
            ],
            [
             0.2,
             "#de77ae"
            ],
            [
             0.3,
             "#f1b6da"
            ],
            [
             0.4,
             "#fde0ef"
            ],
            [
             0.5,
             "#f7f7f7"
            ],
            [
             0.6,
             "#e6f5d0"
            ],
            [
             0.7,
             "#b8e186"
            ],
            [
             0.8,
             "#7fbc41"
            ],
            [
             0.9,
             "#4d9221"
            ],
            [
             1,
             "#276419"
            ]
           ],
           "sequential": [
            [
             0,
             "#0d0887"
            ],
            [
             0.1111111111111111,
             "#46039f"
            ],
            [
             0.2222222222222222,
             "#7201a8"
            ],
            [
             0.3333333333333333,
             "#9c179e"
            ],
            [
             0.4444444444444444,
             "#bd3786"
            ],
            [
             0.5555555555555556,
             "#d8576b"
            ],
            [
             0.6666666666666666,
             "#ed7953"
            ],
            [
             0.7777777777777778,
             "#fb9f3a"
            ],
            [
             0.8888888888888888,
             "#fdca26"
            ],
            [
             1,
             "#f0f921"
            ]
           ],
           "sequentialminus": [
            [
             0,
             "#0d0887"
            ],
            [
             0.1111111111111111,
             "#46039f"
            ],
            [
             0.2222222222222222,
             "#7201a8"
            ],
            [
             0.3333333333333333,
             "#9c179e"
            ],
            [
             0.4444444444444444,
             "#bd3786"
            ],
            [
             0.5555555555555556,
             "#d8576b"
            ],
            [
             0.6666666666666666,
             "#ed7953"
            ],
            [
             0.7777777777777778,
             "#fb9f3a"
            ],
            [
             0.8888888888888888,
             "#fdca26"
            ],
            [
             1,
             "#f0f921"
            ]
           ]
          },
          "colorway": [
           "#636efa",
           "#EF553B",
           "#00cc96",
           "#ab63fa",
           "#FFA15A",
           "#19d3f3",
           "#FF6692",
           "#B6E880",
           "#FF97FF",
           "#FECB52"
          ],
          "font": {
           "color": "#2a3f5f"
          },
          "geo": {
           "bgcolor": "white",
           "lakecolor": "white",
           "landcolor": "#E5ECF6",
           "showlakes": true,
           "showland": true,
           "subunitcolor": "white"
          },
          "hoverlabel": {
           "align": "left"
          },
          "hovermode": "closest",
          "mapbox": {
           "style": "light"
          },
          "paper_bgcolor": "white",
          "plot_bgcolor": "#E5ECF6",
          "polar": {
           "angularaxis": {
            "gridcolor": "white",
            "linecolor": "white",
            "ticks": ""
           },
           "bgcolor": "#E5ECF6",
           "radialaxis": {
            "gridcolor": "white",
            "linecolor": "white",
            "ticks": ""
           }
          },
          "scene": {
           "xaxis": {
            "backgroundcolor": "#E5ECF6",
            "gridcolor": "white",
            "gridwidth": 2,
            "linecolor": "white",
            "showbackground": true,
            "ticks": "",
            "zerolinecolor": "white"
           },
           "yaxis": {
            "backgroundcolor": "#E5ECF6",
            "gridcolor": "white",
            "gridwidth": 2,
            "linecolor": "white",
            "showbackground": true,
            "ticks": "",
            "zerolinecolor": "white"
           },
           "zaxis": {
            "backgroundcolor": "#E5ECF6",
            "gridcolor": "white",
            "gridwidth": 2,
            "linecolor": "white",
            "showbackground": true,
            "ticks": "",
            "zerolinecolor": "white"
           }
          },
          "shapedefaults": {
           "line": {
            "color": "#2a3f5f"
           }
          },
          "ternary": {
           "aaxis": {
            "gridcolor": "white",
            "linecolor": "white",
            "ticks": ""
           },
           "baxis": {
            "gridcolor": "white",
            "linecolor": "white",
            "ticks": ""
           },
           "bgcolor": "#E5ECF6",
           "caxis": {
            "gridcolor": "white",
            "linecolor": "white",
            "ticks": ""
           }
          },
          "title": {
           "x": 0.05
          },
          "xaxis": {
           "automargin": true,
           "gridcolor": "white",
           "linecolor": "white",
           "ticks": "",
           "title": {
            "standoff": 15
           },
           "zerolinecolor": "white",
           "zerolinewidth": 2
          },
          "yaxis": {
           "automargin": true,
           "gridcolor": "white",
           "linecolor": "white",
           "ticks": "",
           "title": {
            "standoff": 15
           },
           "zerolinecolor": "white",
           "zerolinewidth": 2
          }
         }
        },
        "title": {
         "text": "Boxplot of BMI"
        },
        "xaxis": {
         "anchor": "y",
         "domain": [
          0,
          1
         ]
        },
        "yaxis": {
         "anchor": "x",
         "domain": [
          0,
          1
         ],
         "title": {
          "text": "BMI"
         }
        }
       }
      }
     },
     "metadata": {},
     "output_type": "display_data"
    }
   ],
   "source": [
    "# Boxplot for BMI\n",
    "fig_bmi = px.box(df, y='BMI', title=\"Boxplot of BMI\")\n",
    "fig_bmi.show()"
   ]
  },
  {
   "cell_type": "markdown",
   "metadata": {},
   "source": [
    "### Step 4: Analyze Correlations Between Features"
   ]
  },
  {
   "cell_type": "code",
   "execution_count": 34,
   "metadata": {},
   "outputs": [
    {
     "data": {
      "application/vnd.plotly.v1+json": {
       "config": {
        "plotlyServerURL": "https://plot.ly"
       },
       "data": [
        {
         "coloraxis": "coloraxis",
         "hovertemplate": "Features: %{x}<br>Features: %{y}<br>Correlation: %{z}<extra></extra>",
         "name": "0",
         "texttemplate": "%{z}",
         "type": "heatmap",
         "x": [
          "Age",
          "Pregnancies",
          "BMI",
          "Glucose",
          "BloodPressure",
          "HbA1c",
          "LDL",
          "HDL",
          "Triglycerides",
          "WaistCircumference",
          "HipCircumference",
          "WHR",
          "FamilyHistory",
          "DietType",
          "Hypertension",
          "MedicationUse",
          "Outcome"
         ],
         "xaxis": "x",
         "y": [
          "Age",
          "Pregnancies",
          "BMI",
          "Glucose",
          "BloodPressure",
          "HbA1c",
          "LDL",
          "HDL",
          "Triglycerides",
          "WaistCircumference",
          "HipCircumference",
          "WHR",
          "FamilyHistory",
          "DietType",
          "Hypertension",
          "MedicationUse",
          "Outcome"
         ],
         "yaxis": "y",
         "z": {
          "bdata": "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",
          "dtype": "f8",
          "shape": "17, 17"
         }
        }
       ],
       "layout": {
        "coloraxis": {
         "colorbar": {
          "title": {
           "text": "Correlation"
          }
         },
         "colorscale": [
          [
           0,
           "#440154"
          ],
          [
           0.1111111111111111,
           "#482878"
          ],
          [
           0.2222222222222222,
           "#3e4989"
          ],
          [
           0.3333333333333333,
           "#31688e"
          ],
          [
           0.4444444444444444,
           "#26828e"
          ],
          [
           0.5555555555555556,
           "#1f9e89"
          ],
          [
           0.6666666666666666,
           "#35b779"
          ],
          [
           0.7777777777777778,
           "#6ece58"
          ],
          [
           0.8888888888888888,
           "#b5de2b"
          ],
          [
           1,
           "#fde725"
          ]
         ]
        },
        "template": {
         "data": {
          "bar": [
           {
            "error_x": {
             "color": "#2a3f5f"
            },
            "error_y": {
             "color": "#2a3f5f"
            },
            "marker": {
             "line": {
              "color": "#E5ECF6",
              "width": 0.5
             },
             "pattern": {
              "fillmode": "overlay",
              "size": 10,
              "solidity": 0.2
             }
            },
            "type": "bar"
           }
          ],
          "barpolar": [
           {
            "marker": {
             "line": {
              "color": "#E5ECF6",
              "width": 0.5
             },
             "pattern": {
              "fillmode": "overlay",
              "size": 10,
              "solidity": 0.2
             }
            },
            "type": "barpolar"
           }
          ],
          "carpet": [
           {
            "aaxis": {
             "endlinecolor": "#2a3f5f",
             "gridcolor": "white",
             "linecolor": "white",
             "minorgridcolor": "white",
             "startlinecolor": "#2a3f5f"
            },
            "baxis": {
             "endlinecolor": "#2a3f5f",
             "gridcolor": "white",
             "linecolor": "white",
             "minorgridcolor": "white",
             "startlinecolor": "#2a3f5f"
            },
            "type": "carpet"
           }
          ],
          "choropleth": [
           {
            "colorbar": {
             "outlinewidth": 0,
             "ticks": ""
            },
            "type": "choropleth"
           }
          ],
          "contour": [
           {
            "colorbar": {
             "outlinewidth": 0,
             "ticks": ""
            },
            "colorscale": [
             [
              0,
              "#0d0887"
             ],
             [
              0.1111111111111111,
              "#46039f"
             ],
             [
              0.2222222222222222,
              "#7201a8"
             ],
             [
              0.3333333333333333,
              "#9c179e"
             ],
             [
              0.4444444444444444,
              "#bd3786"
             ],
             [
              0.5555555555555556,
              "#d8576b"
             ],
             [
              0.6666666666666666,
              "#ed7953"
             ],
             [
              0.7777777777777778,
              "#fb9f3a"
             ],
             [
              0.8888888888888888,
              "#fdca26"
             ],
             [
              1,
              "#f0f921"
             ]
            ],
            "type": "contour"
           }
          ],
          "contourcarpet": [
           {
            "colorbar": {
             "outlinewidth": 0,
             "ticks": ""
            },
            "type": "contourcarpet"
           }
          ],
          "heatmap": [
           {
            "colorbar": {
             "outlinewidth": 0,
             "ticks": ""
            },
            "colorscale": [
             [
              0,
              "#0d0887"
             ],
             [
              0.1111111111111111,
              "#46039f"
             ],
             [
              0.2222222222222222,
              "#7201a8"
             ],
             [
              0.3333333333333333,
              "#9c179e"
             ],
             [
              0.4444444444444444,
              "#bd3786"
             ],
             [
              0.5555555555555556,
              "#d8576b"
             ],
             [
              0.6666666666666666,
              "#ed7953"
             ],
             [
              0.7777777777777778,
              "#fb9f3a"
             ],
             [
              0.8888888888888888,
              "#fdca26"
             ],
             [
              1,
              "#f0f921"
             ]
            ],
            "type": "heatmap"
           }
          ],
          "histogram": [
           {
            "marker": {
             "pattern": {
              "fillmode": "overlay",
              "size": 10,
              "solidity": 0.2
             }
            },
            "type": "histogram"
           }
          ],
          "histogram2d": [
           {
            "colorbar": {
             "outlinewidth": 0,
             "ticks": ""
            },
            "colorscale": [
             [
              0,
              "#0d0887"
             ],
             [
              0.1111111111111111,
              "#46039f"
             ],
             [
              0.2222222222222222,
              "#7201a8"
             ],
             [
              0.3333333333333333,
              "#9c179e"
             ],
             [
              0.4444444444444444,
              "#bd3786"
             ],
             [
              0.5555555555555556,
              "#d8576b"
             ],
             [
              0.6666666666666666,
              "#ed7953"
             ],
             [
              0.7777777777777778,
              "#fb9f3a"
             ],
             [
              0.8888888888888888,
              "#fdca26"
             ],
             [
              1,
              "#f0f921"
             ]
            ],
            "type": "histogram2d"
           }
          ],
          "histogram2dcontour": [
           {
            "colorbar": {
             "outlinewidth": 0,
             "ticks": ""
            },
            "colorscale": [
             [
              0,
              "#0d0887"
             ],
             [
              0.1111111111111111,
              "#46039f"
             ],
             [
              0.2222222222222222,
              "#7201a8"
             ],
             [
              0.3333333333333333,
              "#9c179e"
             ],
             [
              0.4444444444444444,
              "#bd3786"
             ],
             [
              0.5555555555555556,
              "#d8576b"
             ],
             [
              0.6666666666666666,
              "#ed7953"
             ],
             [
              0.7777777777777778,
              "#fb9f3a"
             ],
             [
              0.8888888888888888,
              "#fdca26"
             ],
             [
              1,
              "#f0f921"
             ]
            ],
            "type": "histogram2dcontour"
           }
          ],
          "mesh3d": [
           {
            "colorbar": {
             "outlinewidth": 0,
             "ticks": ""
            },
            "type": "mesh3d"
           }
          ],
          "parcoords": [
           {
            "line": {
             "colorbar": {
              "outlinewidth": 0,
              "ticks": ""
             }
            },
            "type": "parcoords"
           }
          ],
          "pie": [
           {
            "automargin": true,
            "type": "pie"
           }
          ],
          "scatter": [
           {
            "fillpattern": {
             "fillmode": "overlay",
             "size": 10,
             "solidity": 0.2
            },
            "type": "scatter"
           }
          ],
          "scatter3d": [
           {
            "line": {
             "colorbar": {
              "outlinewidth": 0,
              "ticks": ""
             }
            },
            "marker": {
             "colorbar": {
              "outlinewidth": 0,
              "ticks": ""
             }
            },
            "type": "scatter3d"
           }
          ],
          "scattercarpet": [
           {
            "marker": {
             "colorbar": {
              "outlinewidth": 0,
              "ticks": ""
             }
            },
            "type": "scattercarpet"
           }
          ],
          "scattergeo": [
           {
            "marker": {
             "colorbar": {
              "outlinewidth": 0,
              "ticks": ""
             }
            },
            "type": "scattergeo"
           }
          ],
          "scattergl": [
           {
            "marker": {
             "colorbar": {
              "outlinewidth": 0,
              "ticks": ""
             }
            },
            "type": "scattergl"
           }
          ],
          "scattermap": [
           {
            "marker": {
             "colorbar": {
              "outlinewidth": 0,
              "ticks": ""
             }
            },
            "type": "scattermap"
           }
          ],
          "scattermapbox": [
           {
            "marker": {
             "colorbar": {
              "outlinewidth": 0,
              "ticks": ""
             }
            },
            "type": "scattermapbox"
           }
          ],
          "scatterpolar": [
           {
            "marker": {
             "colorbar": {
              "outlinewidth": 0,
              "ticks": ""
             }
            },
            "type": "scatterpolar"
           }
          ],
          "scatterpolargl": [
           {
            "marker": {
             "colorbar": {
              "outlinewidth": 0,
              "ticks": ""
             }
            },
            "type": "scatterpolargl"
           }
          ],
          "scatterternary": [
           {
            "marker": {
             "colorbar": {
              "outlinewidth": 0,
              "ticks": ""
             }
            },
            "type": "scatterternary"
           }
          ],
          "surface": [
           {
            "colorbar": {
             "outlinewidth": 0,
             "ticks": ""
            },
            "colorscale": [
             [
              0,
              "#0d0887"
             ],
             [
              0.1111111111111111,
              "#46039f"
             ],
             [
              0.2222222222222222,
              "#7201a8"
             ],
             [
              0.3333333333333333,
              "#9c179e"
             ],
             [
              0.4444444444444444,
              "#bd3786"
             ],
             [
              0.5555555555555556,
              "#d8576b"
             ],
             [
              0.6666666666666666,
              "#ed7953"
             ],
             [
              0.7777777777777778,
              "#fb9f3a"
             ],
             [
              0.8888888888888888,
              "#fdca26"
             ],
             [
              1,
              "#f0f921"
             ]
            ],
            "type": "surface"
           }
          ],
          "table": [
           {
            "cells": {
             "fill": {
              "color": "#EBF0F8"
             },
             "line": {
              "color": "white"
             }
            },
            "header": {
             "fill": {
              "color": "#C8D4E3"
             },
             "line": {
              "color": "white"
             }
            },
            "type": "table"
           }
          ]
         },
         "layout": {
          "annotationdefaults": {
           "arrowcolor": "#2a3f5f",
           "arrowhead": 0,
           "arrowwidth": 1
          },
          "autotypenumbers": "strict",
          "coloraxis": {
           "colorbar": {
            "outlinewidth": 0,
            "ticks": ""
           }
          },
          "colorscale": {
           "diverging": [
            [
             0,
             "#8e0152"
            ],
            [
             0.1,
             "#c51b7d"
            ],
            [
             0.2,
             "#de77ae"
            ],
            [
             0.3,
             "#f1b6da"
            ],
            [
             0.4,
             "#fde0ef"
            ],
            [
             0.5,
             "#f7f7f7"
            ],
            [
             0.6,
             "#e6f5d0"
            ],
            [
             0.7,
             "#b8e186"
            ],
            [
             0.8,
             "#7fbc41"
            ],
            [
             0.9,
             "#4d9221"
            ],
            [
             1,
             "#276419"
            ]
           ],
           "sequential": [
            [
             0,
             "#0d0887"
            ],
            [
             0.1111111111111111,
             "#46039f"
            ],
            [
             0.2222222222222222,
             "#7201a8"
            ],
            [
             0.3333333333333333,
             "#9c179e"
            ],
            [
             0.4444444444444444,
             "#bd3786"
            ],
            [
             0.5555555555555556,
             "#d8576b"
            ],
            [
             0.6666666666666666,
             "#ed7953"
            ],
            [
             0.7777777777777778,
             "#fb9f3a"
            ],
            [
             0.8888888888888888,
             "#fdca26"
            ],
            [
             1,
             "#f0f921"
            ]
           ],
           "sequentialminus": [
            [
             0,
             "#0d0887"
            ],
            [
             0.1111111111111111,
             "#46039f"
            ],
            [
             0.2222222222222222,
             "#7201a8"
            ],
            [
             0.3333333333333333,
             "#9c179e"
            ],
            [
             0.4444444444444444,
             "#bd3786"
            ],
            [
             0.5555555555555556,
             "#d8576b"
            ],
            [
             0.6666666666666666,
             "#ed7953"
            ],
            [
             0.7777777777777778,
             "#fb9f3a"
            ],
            [
             0.8888888888888888,
             "#fdca26"
            ],
            [
             1,
             "#f0f921"
            ]
           ]
          },
          "colorway": [
           "#636efa",
           "#EF553B",
           "#00cc96",
           "#ab63fa",
           "#FFA15A",
           "#19d3f3",
           "#FF6692",
           "#B6E880",
           "#FF97FF",
           "#FECB52"
          ],
          "font": {
           "color": "#2a3f5f"
          },
          "geo": {
           "bgcolor": "white",
           "lakecolor": "white",
           "landcolor": "#E5ECF6",
           "showlakes": true,
           "showland": true,
           "subunitcolor": "white"
          },
          "hoverlabel": {
           "align": "left"
          },
          "hovermode": "closest",
          "mapbox": {
           "style": "light"
          },
          "paper_bgcolor": "white",
          "plot_bgcolor": "#E5ECF6",
          "polar": {
           "angularaxis": {
            "gridcolor": "white",
            "linecolor": "white",
            "ticks": ""
           },
           "bgcolor": "#E5ECF6",
           "radialaxis": {
            "gridcolor": "white",
            "linecolor": "white",
            "ticks": ""
           }
          },
          "scene": {
           "xaxis": {
            "backgroundcolor": "#E5ECF6",
            "gridcolor": "white",
            "gridwidth": 2,
            "linecolor": "white",
            "showbackground": true,
            "ticks": "",
            "zerolinecolor": "white"
           },
           "yaxis": {
            "backgroundcolor": "#E5ECF6",
            "gridcolor": "white",
            "gridwidth": 2,
            "linecolor": "white",
            "showbackground": true,
            "ticks": "",
            "zerolinecolor": "white"
           },
           "zaxis": {
            "backgroundcolor": "#E5ECF6",
            "gridcolor": "white",
            "gridwidth": 2,
            "linecolor": "white",
            "showbackground": true,
            "ticks": "",
            "zerolinecolor": "white"
           }
          },
          "shapedefaults": {
           "line": {
            "color": "#2a3f5f"
           }
          },
          "ternary": {
           "aaxis": {
            "gridcolor": "white",
            "linecolor": "white",
            "ticks": ""
           },
           "baxis": {
            "gridcolor": "white",
            "linecolor": "white",
            "ticks": ""
           },
           "bgcolor": "#E5ECF6",
           "caxis": {
            "gridcolor": "white",
            "linecolor": "white",
            "ticks": ""
           }
          },
          "title": {
           "x": 0.05
          },
          "xaxis": {
           "automargin": true,
           "gridcolor": "white",
           "linecolor": "white",
           "ticks": "",
           "title": {
            "standoff": 15
           },
           "zerolinecolor": "white",
           "zerolinewidth": 2
          },
          "yaxis": {
           "automargin": true,
           "gridcolor": "white",
           "linecolor": "white",
           "ticks": "",
           "title": {
            "standoff": 15
           },
           "zerolinecolor": "white",
           "zerolinewidth": 2
          }
         }
        },
        "title": {
         "text": "Correlation Heatmap"
        },
        "xaxis": {
         "anchor": "y",
         "constrain": "domain",
         "domain": [
          0,
          1
         ],
         "scaleanchor": "y",
         "title": {
          "text": "Features"
         }
        },
        "yaxis": {
         "anchor": "x",
         "autorange": "reversed",
         "constrain": "domain",
         "domain": [
          0,
          1
         ],
         "title": {
          "text": "Features"
         }
        }
       }
      }
     },
     "metadata": {},
     "output_type": "display_data"
    }
   ],
   "source": [
    "# Calculate the correlation matrix\n",
    "corr_matrix = df.corr()\n",
    "\n",
    "# Create an interactive heatmap\n",
    "fig_heatmap = px.imshow(\n",
    "    corr_matrix,\n",
    "    text_auto=True,\n",
    "    title=\"Correlation Heatmap\",\n",
    "    labels=dict(x=\"Features\", y=\"Features\", color=\"Correlation\"),\n",
    "    color_continuous_scale=\"Viridis\"\n",
    ")\n",
    "fig_heatmap.show()"
   ]
  },
  {
   "cell_type": "markdown",
   "metadata": {},
   "source": [
    "### Step 5: Summarize Insights and Observations\n",
    "\n",
    "- **Insight 1**: The dataset contains no missing values.\n",
    "- **Insight 2**: The `Age` column is right-skewed, indicating a younger population.\n",
    "- **Insight 3**: There is a strong positive correlation between `Glucose` and `Outcome`.\n",
    "- **Insight 4**: The `BMI` distribution shows some outliers, which may need further investigation."
   ]
  }
 ],
 "metadata": {
  "kernelspec": {
   "display_name": "Python 3",
   "language": "python",
   "name": "python3"
  },
  "language_info": {
   "codemirror_mode": {
    "name": "ipython",
    "version": 3
   },
   "file_extension": ".py",
   "mimetype": "text/x-python",
   "name": "python",
   "nbconvert_exporter": "python",
   "pygments_lexer": "ipython3",
   "version": "3.13.2"
  }
 },
 "nbformat": 4,
 "nbformat_minor": 2
}
